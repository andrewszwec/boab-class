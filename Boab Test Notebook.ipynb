{
 "cells": [
  {
   "cell_type": "markdown",
   "metadata": {},
   "source": [
    "# Production tonnes dataset \n",
    "Data Set Information:\n",
    "Production tonnes and other information collected along with it.\n",
    "\n",
    "\n",
    "Attribute Information:\n",
    "\n",
    "1. 'equipment',\n",
    "2. 'date',\n",
    "3. 'shift',\n",
    "4. 'tonnes',\n",
    "5. 'tonnes\\nper\\nday',\n",
    "6. 'tonnes\\nper\\ncuthr',\n",
    "7. 'tonnes\\nper\\nophr',\n",
    "8. 'metres',\n",
    "9. 'metres\\nper\\nday',\n",
    "10. 'metres\\nper\\ncuthr',\n",
    "11. 'metres\\nper\\nophr',\n",
    "12. 'shears',\n",
    "13. 'shears\\nper\\nday',\n",
    "14. 'shears\\nper\\ncuthr',\n",
    "15. 'shears\\nper\\nophr',\n",
    "16. 'bolts',\n",
    "17. 'bolts\\nper\\nday',\n",
    "18. 'cars',\n",
    "19. 'cars\\nper\\nday',\n",
    "20. 'cutting\\nheight',\n",
    "21. 'cuthr',\n",
    "22. 'ophrs',\n",
    "23. 'e/m/p\\nhrs',\n",
    "24. 'sno\\n&\\nnst',\n",
    "25. 'total\\nhrs',\n",
    "26. 'op%'\n"
   ]
  },
  {
   "cell_type": "code",
   "execution_count": 1,
   "metadata": {},
   "outputs": [],
   "source": [
    "from boab import Boab"
   ]
  },
  {
   "cell_type": "code",
   "execution_count": 4,
   "metadata": {},
   "outputs": [
    {
     "data": {
      "text/plain": [
       "(1686, 26)"
      ]
     },
     "execution_count": 4,
     "metadata": {},
     "output_type": "execute_result"
    }
   ],
   "source": [
    "bo = Boab()\n",
    "bo.load_data('t.csv')\n",
    "#loads of missing data, NAN, zeros and maybe some bad types\n",
    "bo.df.shape"
   ]
  },
  {
   "cell_type": "code",
   "execution_count": 3,
   "metadata": {},
   "outputs": [
    {
     "name": "stdout",
     "output_type": "stream",
     "text": [
      "Column: equipment\n",
      "Number nans: 1686\n",
      "Column: shift\n",
      "Number nans: 1686\n"
     ]
    },
    {
     "data": {
      "text/plain": [
       "  equipment       date shift  tonnes  tonnes\\nper\\nday  tonnes\\nper\\ncuthr  \\\n",
       "0   MY1110L 2018-07-15    WA    0.00            850.00            0.000000   \n",
       "1   MY1110L 2018-07-15    WD    0.00            850.00            0.000000   \n",
       "2   MY1110L 2018-07-15    WN  850.00            850.00          211.618257   \n",
       "3   MY1110L 2018-07-16     A  521.53           1613.78          142.235455   \n",
       "4   MY1110L 2018-07-16     D  413.28           1613.78          177.120000   \n",
       "\n",
       "   tonnes\\nper\\nophr  metres  metres\\nper\\nday  metres\\nper\\ncuthr    ...     \\\n",
       "0           0.000000     0.0               0.0                 0.0    ...      \n",
       "1           0.000000     0.0               0.0                 0.0    ...      \n",
       "2         161.392405     0.0               0.0                 0.0    ...      \n",
       "3          80.235385     0.0               0.0                 0.0    ...      \n",
       "4          82.656000     0.0               0.0                 0.0    ...      \n",
       "\n",
       "   bolts\\nper\\nday  cars  cars\\nper\\nday  cutting\\nheight     cuthr     ophrs  \\\n",
       "0              0.0   0.0            85.0              0.0  0.000000  0.000000   \n",
       "1              0.0   0.0            85.0              0.0  0.000000  0.000000   \n",
       "2              0.0  85.0            85.0              0.0  4.016667  5.266667   \n",
       "3            144.0  53.0           164.0              0.0  3.666667  6.500000   \n",
       "4            144.0  42.0           164.0              0.0  2.333333  5.000000   \n",
       "\n",
       "   e/m/p\\nhrs  sno\\n&\\nnst  total\\nhrs       op%  \n",
       "0    0.000000     6.000000        6.00  0.000000  \n",
       "1    0.000000     6.000000        6.00  0.000000  \n",
       "2    3.900000     2.833333       12.00  0.438889  \n",
       "3    0.250000     0.500000        7.25  0.896552  \n",
       "4    1.583333     1.916667        8.50  0.588235  \n",
       "\n",
       "[5 rows x 26 columns]"
      ]
     },
     "execution_count": 3,
     "metadata": {},
     "output_type": "execute_result"
    }
   ],
   "source": [
    "bo.fix_types()"
   ]
  },
  {
   "cell_type": "code",
   "execution_count": 5,
   "metadata": {},
   "outputs": [
    {
     "name": "stdout",
     "output_type": "stream",
     "text": [
      "Column: tonnes Numeric\n",
      "Column: tonnes\n",
      "per\n",
      "day Numeric\n",
      "Column: tonnes\n",
      "per\n",
      "cuthr Numeric\n",
      "Column: tonnes\n",
      "per\n",
      "ophr Numeric\n",
      "Column: metres Numeric\n",
      "Column: metres\n",
      "per\n",
      "day Numeric\n",
      "Column: metres\n",
      "per\n",
      "cuthr Numeric\n",
      "Column: metres\n",
      "per\n",
      "ophr Numeric\n",
      "Column: shears Numeric\n",
      "Column: shears\n",
      "per\n",
      "day Numeric\n",
      "Column: shears\n",
      "per\n",
      "cuthr Numeric\n",
      "Column: shears\n",
      "per\n",
      "ophr Numeric\n",
      "Column: bolts Numeric\n",
      "Column: bolts\n",
      "per\n",
      "day Numeric\n",
      "Column: cars Numeric\n",
      "Column: cars\n",
      "per\n",
      "day Numeric\n",
      "Column: cutting\n",
      "height Numeric\n",
      "Column: cuthr Numeric\n",
      "Column: ophrs Numeric\n",
      "Column: e/m/p\n",
      "hrs Numeric\n",
      "Column: sno\n",
      "&\n",
      "nst Numeric\n",
      "Column: total\n",
      "hrs Numeric\n",
      "Column: op% Numeric\n"
     ]
    },
    {
     "data": {
      "text/plain": [
       "  equipment        date shift  tonnes  tonnes\\nper\\nday  tonnes\\nper\\ncuthr  \\\n",
       "0   MY1110L  15/07/2018    WA    0.00            850.00            0.000000   \n",
       "1   MY1110L  15/07/2018    WD    0.00            850.00            0.000000   \n",
       "2   MY1110L  15/07/2018    WN  850.00            850.00          211.618257   \n",
       "3   MY1110L  16/07/2018     A  521.53           1613.78          142.235455   \n",
       "4   MY1110L  16/07/2018     D  413.28           1613.78          177.120000   \n",
       "\n",
       "   tonnes\\nper\\nophr  metres  metres\\nper\\nday  metres\\nper\\ncuthr    ...     \\\n",
       "0           0.000000     0.0               0.0                 0.0    ...      \n",
       "1           0.000000     0.0               0.0                 0.0    ...      \n",
       "2         161.392405     0.0               0.0                 0.0    ...      \n",
       "3          80.235385     0.0               0.0                 0.0    ...      \n",
       "4          82.656000     0.0               0.0                 0.0    ...      \n",
       "\n",
       "   bolts\\nper\\nday  cars  cars\\nper\\nday  cutting\\nheight     cuthr     ophrs  \\\n",
       "0              0.0   0.0            85.0              0.0  0.000000  0.000000   \n",
       "1              0.0   0.0            85.0              0.0  0.000000  0.000000   \n",
       "2              0.0  85.0            85.0              0.0  4.016667  5.266667   \n",
       "3            144.0  53.0           164.0              0.0  3.666667  6.500000   \n",
       "4            144.0  42.0           164.0              0.0  2.333333  5.000000   \n",
       "\n",
       "   e/m/p\\nhrs  sno\\n&\\nnst  total\\nhrs       op%  \n",
       "0    0.000000     6.000000        6.00  0.000000  \n",
       "1    0.000000     6.000000        6.00  0.000000  \n",
       "2    3.900000     2.833333       12.00  0.438889  \n",
       "3    0.250000     0.500000        7.25  0.896552  \n",
       "4    1.583333     1.916667        8.50  0.588235  \n",
       "\n",
       "[5 rows x 26 columns]"
      ]
     },
     "execution_count": 5,
     "metadata": {},
     "output_type": "execute_result"
    }
   ],
   "source": [
    "bo.fix_missing()"
   ]
  },
  {
   "cell_type": "code",
   "execution_count": 8,
   "metadata": {},
   "outputs": [
    {
     "ename": "AttributeError",
     "evalue": "Can only use .dt accessor with datetimelike values",
     "output_type": "error",
     "traceback": [
      "\u001b[0;31m---------------------------------------------------------------------------\u001b[0m",
      "\u001b[0;31mAttributeError\u001b[0m                            Traceback (most recent call last)",
      "\u001b[0;32m<ipython-input-8-9526bb4948d9>\u001b[0m in \u001b[0;36m<module>\u001b[0;34m()\u001b[0m\n\u001b[0;32m----> 1\u001b[0;31m \u001b[0mbo\u001b[0m\u001b[0;34m.\u001b[0m\u001b[0mmake_discrete_datetime_cols\u001b[0m\u001b[0;34m(\u001b[0m\u001b[0;34m)\u001b[0m\u001b[0;34m\u001b[0m\u001b[0m\n\u001b[0m",
      "\u001b[0;32m~/plygrnd/boab-class/boab.py\u001b[0m in \u001b[0;36mmake_discrete_datetime_cols\u001b[0;34m(self, verbose)\u001b[0m\n\u001b[1;32m    257\u001b[0m         \u001b[0;32mfor\u001b[0m \u001b[0md\u001b[0m \u001b[0;32min\u001b[0m \u001b[0mself\u001b[0m\u001b[0;34m.\u001b[0m\u001b[0mdate_cols\u001b[0m\u001b[0;34m:\u001b[0m\u001b[0;34m\u001b[0m\u001b[0m\n\u001b[1;32m    258\u001b[0m             \u001b[0;31m# append col name as prefix\u001b[0m\u001b[0;34m\u001b[0m\u001b[0;34m\u001b[0m\u001b[0m\n\u001b[0;32m--> 259\u001b[0;31m             \u001b[0mself\u001b[0m\u001b[0;34m.\u001b[0m\u001b[0mdf\u001b[0m\u001b[0;34m[\u001b[0m\u001b[0;34m'_'\u001b[0m\u001b[0;34m.\u001b[0m\u001b[0mjoin\u001b[0m\u001b[0;34m(\u001b[0m\u001b[0;34m[\u001b[0m\u001b[0md\u001b[0m\u001b[0;34m,\u001b[0m \u001b[0;34m'day'\u001b[0m\u001b[0;34m]\u001b[0m\u001b[0;34m)\u001b[0m\u001b[0;34m]\u001b[0m \u001b[0;34m=\u001b[0m \u001b[0mself\u001b[0m\u001b[0;34m.\u001b[0m\u001b[0mdf\u001b[0m\u001b[0;34m[\u001b[0m\u001b[0md\u001b[0m\u001b[0;34m]\u001b[0m\u001b[0;34m.\u001b[0m\u001b[0mdt\u001b[0m\u001b[0;34m.\u001b[0m\u001b[0mday\u001b[0m\u001b[0;34m\u001b[0m\u001b[0m\n\u001b[0m\u001b[1;32m    260\u001b[0m             \u001b[0mself\u001b[0m\u001b[0;34m.\u001b[0m\u001b[0mdf\u001b[0m\u001b[0;34m[\u001b[0m\u001b[0;34m'_'\u001b[0m\u001b[0;34m.\u001b[0m\u001b[0mjoin\u001b[0m\u001b[0;34m(\u001b[0m\u001b[0;34m[\u001b[0m\u001b[0md\u001b[0m\u001b[0;34m,\u001b[0m \u001b[0;34m'month'\u001b[0m\u001b[0;34m]\u001b[0m\u001b[0;34m)\u001b[0m\u001b[0;34m]\u001b[0m \u001b[0;34m=\u001b[0m \u001b[0mself\u001b[0m\u001b[0;34m.\u001b[0m\u001b[0mdf\u001b[0m\u001b[0;34m[\u001b[0m\u001b[0md\u001b[0m\u001b[0;34m]\u001b[0m\u001b[0;34m.\u001b[0m\u001b[0mdt\u001b[0m\u001b[0;34m.\u001b[0m\u001b[0mmonth\u001b[0m\u001b[0;34m\u001b[0m\u001b[0m\n\u001b[1;32m    261\u001b[0m             \u001b[0mself\u001b[0m\u001b[0;34m.\u001b[0m\u001b[0mdf\u001b[0m\u001b[0;34m[\u001b[0m\u001b[0;34m'_'\u001b[0m\u001b[0;34m.\u001b[0m\u001b[0mjoin\u001b[0m\u001b[0;34m(\u001b[0m\u001b[0;34m[\u001b[0m\u001b[0md\u001b[0m\u001b[0;34m,\u001b[0m \u001b[0;34m'year'\u001b[0m\u001b[0;34m]\u001b[0m\u001b[0;34m)\u001b[0m\u001b[0;34m]\u001b[0m \u001b[0;34m=\u001b[0m \u001b[0mself\u001b[0m\u001b[0;34m.\u001b[0m\u001b[0mdf\u001b[0m\u001b[0;34m[\u001b[0m\u001b[0md\u001b[0m\u001b[0;34m]\u001b[0m\u001b[0;34m.\u001b[0m\u001b[0mdt\u001b[0m\u001b[0;34m.\u001b[0m\u001b[0myear\u001b[0m\u001b[0;34m\u001b[0m\u001b[0m\n",
      "\u001b[0;32m~/anaconda3/lib/python3.6/site-packages/pandas/core/generic.py\u001b[0m in \u001b[0;36m__getattr__\u001b[0;34m(self, name)\u001b[0m\n\u001b[1;32m   4366\u001b[0m         if (name in self._internal_names_set or name in self._metadata or\n\u001b[1;32m   4367\u001b[0m                 name in self._accessors):\n\u001b[0;32m-> 4368\u001b[0;31m             \u001b[0;32mreturn\u001b[0m \u001b[0mobject\u001b[0m\u001b[0;34m.\u001b[0m\u001b[0m__getattribute__\u001b[0m\u001b[0;34m(\u001b[0m\u001b[0mself\u001b[0m\u001b[0;34m,\u001b[0m \u001b[0mname\u001b[0m\u001b[0;34m)\u001b[0m\u001b[0;34m\u001b[0m\u001b[0m\n\u001b[0m\u001b[1;32m   4369\u001b[0m         \u001b[0;32melse\u001b[0m\u001b[0;34m:\u001b[0m\u001b[0;34m\u001b[0m\u001b[0m\n\u001b[1;32m   4370\u001b[0m             \u001b[0;32mif\u001b[0m \u001b[0mself\u001b[0m\u001b[0;34m.\u001b[0m\u001b[0m_info_axis\u001b[0m\u001b[0;34m.\u001b[0m\u001b[0m_can_hold_identifiers_and_holds_name\u001b[0m\u001b[0;34m(\u001b[0m\u001b[0mname\u001b[0m\u001b[0;34m)\u001b[0m\u001b[0;34m:\u001b[0m\u001b[0;34m\u001b[0m\u001b[0m\n",
      "\u001b[0;32m~/anaconda3/lib/python3.6/site-packages/pandas/core/accessor.py\u001b[0m in \u001b[0;36m__get__\u001b[0;34m(self, obj, cls)\u001b[0m\n\u001b[1;32m    130\u001b[0m             \u001b[0;31m# we're accessing the attribute of the class, i.e., Dataset.geo\u001b[0m\u001b[0;34m\u001b[0m\u001b[0;34m\u001b[0m\u001b[0m\n\u001b[1;32m    131\u001b[0m             \u001b[0;32mreturn\u001b[0m \u001b[0mself\u001b[0m\u001b[0;34m.\u001b[0m\u001b[0m_accessor\u001b[0m\u001b[0;34m\u001b[0m\u001b[0m\n\u001b[0;32m--> 132\u001b[0;31m         \u001b[0maccessor_obj\u001b[0m \u001b[0;34m=\u001b[0m \u001b[0mself\u001b[0m\u001b[0;34m.\u001b[0m\u001b[0m_accessor\u001b[0m\u001b[0;34m(\u001b[0m\u001b[0mobj\u001b[0m\u001b[0;34m)\u001b[0m\u001b[0;34m\u001b[0m\u001b[0m\n\u001b[0m\u001b[1;32m    133\u001b[0m         \u001b[0;31m# Replace the property with the accessor object. Inspired by:\u001b[0m\u001b[0;34m\u001b[0m\u001b[0;34m\u001b[0m\u001b[0m\n\u001b[1;32m    134\u001b[0m         \u001b[0;31m# http://www.pydanny.com/cached-property.html\u001b[0m\u001b[0;34m\u001b[0m\u001b[0;34m\u001b[0m\u001b[0m\n",
      "\u001b[0;32m~/anaconda3/lib/python3.6/site-packages/pandas/core/indexes/accessors.py\u001b[0m in \u001b[0;36m__new__\u001b[0;34m(cls, data)\u001b[0m\n\u001b[1;32m    323\u001b[0m             \u001b[0;32mpass\u001b[0m  \u001b[0;31m# we raise an attribute error anyway\u001b[0m\u001b[0;34m\u001b[0m\u001b[0m\n\u001b[1;32m    324\u001b[0m \u001b[0;34m\u001b[0m\u001b[0m\n\u001b[0;32m--> 325\u001b[0;31m         raise AttributeError(\"Can only use .dt accessor with datetimelike \"\n\u001b[0m\u001b[1;32m    326\u001b[0m                              \"values\")\n",
      "\u001b[0;31mAttributeError\u001b[0m: Can only use .dt accessor with datetimelike values"
     ]
    }
   ],
   "source": [
    "bo.make_discrete_datetime_cols()"
   ]
  },
  {
   "cell_type": "code",
   "execution_count": 7,
   "metadata": {},
   "outputs": [
    {
     "name": "stdout",
     "output_type": "stream",
     "text": [
      "  equipment        date shift  tonnes  tonnes\\nper\\nday  tonnes\\nper\\ncuthr  \\\n",
      "0   MY1110L  15/07/2018    WA    0.00            850.00            0.000000   \n",
      "1   MY1110L  15/07/2018    WD    0.00            850.00            0.000000   \n",
      "2   MY1110L  15/07/2018    WN  850.00            850.00          211.618257   \n",
      "3   MY1110L  16/07/2018     A  521.53           1613.78          142.235455   \n",
      "4   MY1110L  16/07/2018     D  413.28           1613.78          177.120000   \n",
      "\n",
      "   tonnes\\nper\\nophr  metres  metres\\nper\\nday  metres\\nper\\ncuthr    ...     \\\n",
      "0           0.000000     0.0               0.0                 0.0    ...      \n",
      "1           0.000000     0.0               0.0                 0.0    ...      \n",
      "2         161.392405     0.0               0.0                 0.0    ...      \n",
      "3          80.235385     0.0               0.0                 0.0    ...      \n",
      "4          82.656000     0.0               0.0                 0.0    ...      \n",
      "\n",
      "   bolts\\nper\\nday  cars  cars\\nper\\nday  cutting\\nheight     cuthr     ophrs  \\\n",
      "0              0.0   0.0            85.0              0.0  0.000000  0.000000   \n",
      "1              0.0   0.0            85.0              0.0  0.000000  0.000000   \n",
      "2              0.0  85.0            85.0              0.0  4.016667  5.266667   \n",
      "3            144.0  53.0           164.0              0.0  3.666667  6.500000   \n",
      "4            144.0  42.0           164.0              0.0  2.333333  5.000000   \n",
      "\n",
      "   e/m/p\\nhrs  sno\\n&\\nnst  total\\nhrs       op%  \n",
      "0    0.000000     6.000000        6.00  0.000000  \n",
      "1    0.000000     6.000000        6.00  0.000000  \n",
      "2    3.900000     2.833333       12.00  0.438889  \n",
      "3    0.250000     0.500000        7.25  0.896552  \n",
      "4    1.583333     1.916667        8.50  0.588235  \n",
      "\n",
      "[5 rows x 26 columns]\n"
     ]
    },
    {
     "data": {
      "text/plain": [
       "['date',\n",
       " 'shift',\n",
       " 'tonnes',\n",
       " 'tonnes\\nper\\nday',\n",
       " 'tonnes\\nper\\ncuthr',\n",
       " 'tonnes\\nper\\nophr',\n",
       " 'metres',\n",
       " 'metres\\nper\\nday',\n",
       " 'metres\\nper\\ncuthr',\n",
       " 'metres\\nper\\nophr',\n",
       " 'shears',\n",
       " 'shears\\nper\\nday',\n",
       " 'shears\\nper\\ncuthr',\n",
       " 'shears\\nper\\nophr',\n",
       " 'bolts',\n",
       " 'bolts\\nper\\nday',\n",
       " 'cars',\n",
       " 'cars\\nper\\nday',\n",
       " 'cutting\\nheight',\n",
       " 'cuthr',\n",
       " 'ophrs',\n",
       " 'e/m/p\\nhrs',\n",
       " 'sno\\n&\\nnst',\n",
       " 'total\\nhrs',\n",
       " 'op%']"
      ]
     },
     "execution_count": 7,
     "metadata": {},
     "output_type": "execute_result"
    }
   ],
   "source": [
    "print(bo.df.head())\n",
    "list(bo.df.columns)[1:]"
   ]
  },
  {
   "cell_type": "code",
   "execution_count": null,
   "metadata": {},
   "outputs": [],
   "source": [
    "# Build normal regression\n",
    "feature_list = ['cyclinders', 'displacement', 'hp', 'weight', 'acceleration', 'year', 'origin']\n",
    "target = 'mpg'\n",
    "type(bo.build_regression(feature_list=feature_list, target=target))"
   ]
  }
 ],
 "metadata": {
  "kernelspec": {
   "display_name": "Python 3",
   "language": "python",
   "name": "python3"
  },
  "language_info": {
   "codemirror_mode": {
    "name": "ipython",
    "version": 3
   },
   "file_extension": ".py",
   "mimetype": "text/x-python",
   "name": "python",
   "nbconvert_exporter": "python",
   "pygments_lexer": "ipython3",
   "version": "3.6.5"
  }
 },
 "nbformat": 4,
 "nbformat_minor": 2
}
