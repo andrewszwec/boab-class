{
 "cells": [
  {
   "cell_type": "markdown",
   "metadata": {},
   "source": [
    "# Auto MPG Data Set \n",
    "Data Set Information:\n",
    "\n",
    "This dataset is a slightly modified version of the dataset provided in the StatLib library. In line with the use by Ross Quinlan (1993) in predicting the attribute \"mpg\", 8 of the original instances were removed because they had unknown values for the \"mpg\" attribute. The original dataset is available in the file \"auto-mpg.data-original\". \n",
    "\n",
    "\"The data concerns city-cycle fuel consumption in miles per gallon, to be predicted in terms of 3 multivalued discrete and 5 continuous attributes.\" (Quinlan, 1993)\n",
    "\n",
    "\n",
    "Attribute Information:\n",
    "\n",
    "1. mpg: continuous \n",
    "2. cylinders: multi-valued discrete \n",
    "3. displacement: continuous \n",
    "4. horsepower: continuous \n",
    "5. weight: continuous \n",
    "6. acceleration: continuous \n",
    "7. model year: multi-valued discrete \n",
    "8. origin: multi-valued discrete \n",
    "9. car name: string (unique for each instance)"
   ]
  },
  {
   "cell_type": "code",
   "execution_count": 2,
   "metadata": {},
   "outputs": [],
   "source": [
    "from boab import Boab"
   ]
  },
  {
   "cell_type": "code",
   "execution_count": 6,
   "metadata": {},
   "outputs": [
    {
     "name": "stdout",
     "output_type": "stream",
     "text": [
      "Empty DataFrame\n",
      "Columns: []\n",
      "Index: []\n",
      "Column: name\n",
      "Number nans: 398\n",
      "Column: mpg Numeric\n",
      "Column: cyclinders Numeric\n",
      "Column: displacement Numeric\n",
      "Column: hp Numeric\n",
      "Column: weight Numeric\n",
      "Column: acceleration Numeric\n",
      "Column: year Numeric\n",
      "Column: origin Numeric\n"
     ]
    }
   ],
   "source": [
    "bo = Boab()\n",
    "bo.head()\n",
    "bo.load_data('car_data.csv')\n",
    "bo.fix_types()\n",
    "bo.fix_missing()\n",
    "bo.make_discrete_datetime_cols()\n"
   ]
  },
  {
   "cell_type": "code",
   "execution_count": 7,
   "metadata": {},
   "outputs": [
    {
     "name": "stdout",
     "output_type": "stream",
     "text": [
      "    mpg  cyclinders  displacement     hp       weight  acceleration  \\\n",
      "0  18.0         8.0         307.0  130.0  3504.000000          12.0   \n",
      "1  15.0         8.0         350.0  165.0  3693.000000          11.5   \n",
      "2  18.0         8.0         318.0  150.0  3436.000000          11.0   \n",
      "3  16.0         8.0         304.0  150.0  2957.894602          12.0   \n",
      "4  17.0         8.0         302.0  140.0  3449.000000          10.5   \n",
      "\n",
      "        year  origin                       name  \n",
      "0  70.000000     1.0  chevrolet chevelle malibu  \n",
      "1  70.000000     1.0          buick skylark 320  \n",
      "2  70.000000     1.0         plymouth satellite  \n",
      "3  70.000000     1.0              amc rebel sst  \n",
      "4  76.053165     1.0                ford torino  \n"
     ]
    }
   ],
   "source": [
    "print(bo.df.head())"
   ]
  },
  {
   "cell_type": "code",
   "execution_count": 8,
   "metadata": {},
   "outputs": [
    {
     "name": "stdout",
     "output_type": "stream",
     "text": [
      "\n",
      "[INFO] Imputing missing values\n",
      "Column: mpg Numeric\n",
      "Column: cyclinders Numeric\n",
      "Column: displacement Numeric\n",
      "Column: hp Numeric\n",
      "Column: weight Numeric\n",
      "Column: acceleration Numeric\n",
      "Column: year Numeric\n",
      "Column: origin Numeric\n",
      "\n",
      "Missing Values:\n",
      "mpg             0\n",
      "cyclinders      0\n",
      "displacement    0\n",
      "hp              0\n",
      "weight          0\n",
      "acceleration    0\n",
      "year            0\n",
      "origin          0\n",
      "name            0\n",
      "dtype: int64\n",
      "\n",
      "Ridge Regression R-squared: 0.7489979696063359\n"
     ]
    }
   ],
   "source": [
    "# Build normal regression\n",
    "feature_list = ['cyclinders', 'displacement', 'hp', 'weight', 'acceleration', 'year', 'origin']\n",
    "target = 'mpg'\n",
    "bo.build_regression(feature_list=feature_list, target=target)"
   ]
  }
 ],
 "metadata": {
  "kernelspec": {
   "display_name": "Python 3",
   "language": "python",
   "name": "python3"
  },
  "language_info": {
   "codemirror_mode": {
    "name": "ipython",
    "version": 3
   },
   "file_extension": ".py",
   "mimetype": "text/x-python",
   "name": "python",
   "nbconvert_exporter": "python",
   "pygments_lexer": "ipython3",
   "version": "3.7.1"
  }
 },
 "nbformat": 4,
 "nbformat_minor": 2
}
